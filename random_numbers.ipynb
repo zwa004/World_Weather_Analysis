{
 "cells": [
  {
   "cell_type": "code",
   "execution_count": 1,
   "id": "ce39adc6",
   "metadata": {},
   "outputs": [],
   "source": [
    "# Import the random module \n",
    "import random"
   ]
  },
  {
   "cell_type": "code",
   "execution_count": 3,
   "id": "8ee0437d",
   "metadata": {},
   "outputs": [
    {
     "data": {
      "text/plain": [
       "0.25951488585772076"
      ]
     },
     "execution_count": 3,
     "metadata": {},
     "output_type": "execute_result"
    }
   ],
   "source": [
    "# Choose random float between 0 and 1\n",
    "random.random()"
   ]
  },
  {
   "cell_type": "code",
   "execution_count": 5,
   "id": "e95cdc8e",
   "metadata": {},
   "outputs": [
    {
     "data": {
      "text/plain": [
       "83"
      ]
     },
     "execution_count": 5,
     "metadata": {},
     "output_type": "execute_result"
    }
   ],
   "source": [
    "random.randint(10,100)"
   ]
  },
  {
   "cell_type": "code",
   "execution_count": 7,
   "id": "e39d870d",
   "metadata": {},
   "outputs": [
    {
     "data": {
      "text/plain": [
       "-30"
      ]
     },
     "execution_count": 7,
     "metadata": {},
     "output_type": "execute_result"
    }
   ],
   "source": [
    "# This take steps of 10\n",
    "random.randrange(-90,2,step=10)"
   ]
  },
  {
   "cell_type": "code",
   "execution_count": 8,
   "id": "ebdd852b",
   "metadata": {},
   "outputs": [
    {
     "data": {
      "text/plain": [
       "-90.16040092174869"
      ]
     },
     "execution_count": 8,
     "metadata": {},
     "output_type": "execute_result"
    }
   ],
   "source": [
    "# Generate floats between 2 values\n",
    "random.uniform(-100,100)"
   ]
  },
  {
   "cell_type": "code",
   "execution_count": 10,
   "id": "229437c1",
   "metadata": {},
   "outputs": [
    {
     "name": "stdout",
     "output_type": "stream",
     "text": [
      "[52.28727485654769, 19.309020238759608, -19.290178359791856, -59.814827566045494, 30.668297552722315, 53.91378800548099, -51.664045852831514, 89.81388117714047, 41.37567176539201, -8.57556645361656]\n"
     ]
    }
   ],
   "source": [
    "# For loop with x as counter to generate latitudes \n",
    "x = 1 \n",
    "latitudes = []\n",
    "while x < 11:\n",
    "    random_lat = random.randint(-90, 89) + random.random()\n",
    "    latitudes.append(random_lat)\n",
    "    x += 1\n",
    "print(latitudes)"
   ]
  },
  {
   "cell_type": "code",
   "execution_count": 11,
   "id": "40643db2",
   "metadata": {},
   "outputs": [],
   "source": [
    "# Import NumPy\n",
    "import numpy as np"
   ]
  },
  {
   "cell_type": "code",
   "execution_count": 12,
   "id": "679a8c36",
   "metadata": {},
   "outputs": [
    {
     "data": {
      "text/plain": [
       "59.37249568834491"
      ]
     },
     "execution_count": 12,
     "metadata": {},
     "output_type": "execute_result"
    }
   ],
   "source": [
    "np.random.uniform(-90.000, 90.000)"
   ]
  },
  {
   "cell_type": "code",
   "execution_count": 13,
   "id": "c790d579",
   "metadata": {},
   "outputs": [
    {
     "data": {
      "text/plain": [
       "array([-86.13978737, -85.03330812,  44.81740907,  87.56185763,\n",
       "        41.8114021 , -29.13306041,  86.58889444, -77.02711969,\n",
       "        19.42537033,  82.23049837,   6.88059336,  -6.84236827,\n",
       "        36.23748699,  72.96400791,  26.49831555, -15.79374584,\n",
       "       -76.48582169,   3.46748392,  88.91993502,  43.88744584,\n",
       "        77.09878625, -50.40313319,  -0.39376841, -36.35161498,\n",
       "        61.27586751,  24.01928135, -37.81108352,  47.31580778,\n",
       "        24.31400624, -77.61725374,  19.45575378, -22.87472763,\n",
       "       -30.63168988, -63.17337451,  48.1548744 , -12.08249899,\n",
       "       -45.75115344,  76.99620159, -69.24655256,  75.58876667,\n",
       "        18.26582968, -68.42790618,  20.82761925,  40.69022165,\n",
       "        61.74705972, -84.99892583, -16.93207614, -23.87874279,\n",
       "        54.04904804,  68.29205816])"
      ]
     },
     "execution_count": 13,
     "metadata": {},
     "output_type": "execute_result"
    }
   ],
   "source": [
    "# Generate 50 random floats b/t -90 and 90\n",
    "np.random.uniform(-90.000, 90.000, 50)"
   ]
  },
  {
   "cell_type": "code",
   "execution_count": 14,
   "id": "d7650d93",
   "metadata": {},
   "outputs": [],
   "source": [
    "# Import timeit to see how long it takes to generate numbers\n",
    "import timeit"
   ]
  },
  {
   "cell_type": "code",
   "execution_count": 16,
   "id": "d931c080",
   "metadata": {},
   "outputs": [
    {
     "name": "stdout",
     "output_type": "stream",
     "text": [
      "10.9 µs ± 72.9 ns per loop (mean ± std. dev. of 7 runs, 100000 loops each)\n"
     ]
    }
   ],
   "source": [
    "%timeit np.random.uniform(-90.000, 90.000, size=1500)"
   ]
  },
  {
   "cell_type": "code",
   "execution_count": null,
   "id": "4188158d",
   "metadata": {},
   "outputs": [],
   "source": [
    "def latitudes(size):\n",
    "    latitudes = []\n",
    "    x = 0\n",
    "    while x < (size):\n",
    "        random_lat = random.randint(-90, 90) + random.random()\n",
    "        latitudes.append(random_lat)\n",
    "        x =+ 1\n",
    "    return latitudes\n",
    "# Call the function with 1500 numbers\n",
    "%timeit latitudes(1500)"
   ]
  },
  {
   "cell_type": "code",
   "execution_count": null,
   "id": "f8f90f30",
   "metadata": {},
   "outputs": [],
   "source": []
  }
 ],
 "metadata": {
  "kernelspec": {
   "display_name": "PythonData",
   "language": "python",
   "name": "pythondata"
  },
  "language_info": {
   "codemirror_mode": {
    "name": "ipython",
    "version": 3
   },
   "file_extension": ".py",
   "mimetype": "text/x-python",
   "name": "python",
   "nbconvert_exporter": "python",
   "pygments_lexer": "ipython3",
   "version": "3.7.11"
  }
 },
 "nbformat": 4,
 "nbformat_minor": 5
}
